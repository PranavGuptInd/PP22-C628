{
 "cells": [
  {
   "cell_type": "code",
   "execution_count": 1,
   "id": "8aeea982",
   "metadata": {},
   "outputs": [],
   "source": [
    "import pandas as pd \n",
    "import numpy as np\n",
    "import seaborn as sns\n",
    "import matplotlib.pyplot as plt\n",
    "%matplotlib inline"
   ]
  },
  {
   "cell_type": "code",
   "execution_count": 2,
   "id": "3d9bc729",
   "metadata": {},
   "outputs": [],
   "source": [
    "university_ranking18 = pd.read_csv('2018-QS-World-University-Rankings.csv',\n",
    "                                   encoding='latin-1', header = [0,1])\n",
    "university_ranking19 = pd.read_csv('2019-QS-World-University-Rankings.csv',\n",
    "                                   encoding='latin-1', header = [0,1])\n",
    "university_ranking20 = pd.read_csv('2020-QS-World-University-Rankings.csv',\n",
    "                                   encoding='latin-1', header = [0,1])"
   ]
  },
  {
   "cell_type": "code",
   "execution_count": 3,
   "id": "74dcadcb",
   "metadata": {},
   "outputs": [
    {
     "data": {
      "text/html": [
       "<div>\n",
       "<style scoped>\n",
       "    .dataframe tbody tr th:only-of-type {\n",
       "        vertical-align: middle;\n",
       "    }\n",
       "\n",
       "    .dataframe tbody tr th {\n",
       "        vertical-align: top;\n",
       "    }\n",
       "\n",
       "    .dataframe thead tr th {\n",
       "        text-align: left;\n",
       "    }\n",
       "</style>\n",
       "<table border=\"1\" class=\"dataframe\">\n",
       "  <thead>\n",
       "    <tr>\n",
       "      <th></th>\n",
       "      <th>2018</th>\n",
       "      <th>2017</th>\n",
       "      <th>Institution Name</th>\n",
       "      <th>Country</th>\n",
       "      <th>Classification</th>\n",
       "      <th>Unnamed: 5_level_0</th>\n",
       "      <th>Unnamed: 6_level_0</th>\n",
       "      <th>Unnamed: 7_level_0</th>\n",
       "      <th>Unnamed: 8_level_0</th>\n",
       "      <th>Academic Reputation</th>\n",
       "      <th>...</th>\n",
       "      <th>Unnamed: 12_level_0</th>\n",
       "      <th>Faculty Student</th>\n",
       "      <th>Unnamed: 14_level_0</th>\n",
       "      <th>Citations per Faculty</th>\n",
       "      <th>Unnamed: 16_level_0</th>\n",
       "      <th>International Faculty</th>\n",
       "      <th>Unnamed: 18_level_0</th>\n",
       "      <th>International Students</th>\n",
       "      <th>Unnamed: 20_level_0</th>\n",
       "      <th>Overall Score</th>\n",
       "    </tr>\n",
       "    <tr>\n",
       "      <th></th>\n",
       "      <th>Unnamed: 0_level_1</th>\n",
       "      <th>Unnamed: 1_level_1</th>\n",
       "      <th>Unnamed: 2_level_1</th>\n",
       "      <th>Unnamed: 3_level_1</th>\n",
       "      <th>SIZE</th>\n",
       "      <th>FOCUS</th>\n",
       "      <th>RESEARCH INTENSITY</th>\n",
       "      <th>AGE</th>\n",
       "      <th>STATUS</th>\n",
       "      <th>SCORE</th>\n",
       "      <th>...</th>\n",
       "      <th>RANK</th>\n",
       "      <th>SCORE</th>\n",
       "      <th>RANK</th>\n",
       "      <th>SCORE</th>\n",
       "      <th>RANK</th>\n",
       "      <th>SCORE</th>\n",
       "      <th>RANK</th>\n",
       "      <th>SCORE</th>\n",
       "      <th>RANK</th>\n",
       "      <th>Unnamed: 21_level_1</th>\n",
       "    </tr>\n",
       "  </thead>\n",
       "  <tbody>\n",
       "    <tr>\n",
       "      <th>0</th>\n",
       "      <td>1</td>\n",
       "      <td>1</td>\n",
       "      <td>MASSACHUSETTS INSTITUTE OF TECHNOLOGY (MIT)</td>\n",
       "      <td>United States</td>\n",
       "      <td>M</td>\n",
       "      <td>CO</td>\n",
       "      <td>VH</td>\n",
       "      <td>5.0</td>\n",
       "      <td>B</td>\n",
       "      <td>100</td>\n",
       "      <td>...</td>\n",
       "      <td>4</td>\n",
       "      <td>100</td>\n",
       "      <td>14</td>\n",
       "      <td>99.9</td>\n",
       "      <td>8</td>\n",
       "      <td>100</td>\n",
       "      <td>36</td>\n",
       "      <td>96.1</td>\n",
       "      <td>70</td>\n",
       "      <td>100</td>\n",
       "    </tr>\n",
       "    <tr>\n",
       "      <th>1</th>\n",
       "      <td>2</td>\n",
       "      <td>2</td>\n",
       "      <td>STANFORD UNIVERSITY</td>\n",
       "      <td>United States</td>\n",
       "      <td>L</td>\n",
       "      <td>FC</td>\n",
       "      <td>VH</td>\n",
       "      <td>5.0</td>\n",
       "      <td>B</td>\n",
       "      <td>100</td>\n",
       "      <td>...</td>\n",
       "      <td>5</td>\n",
       "      <td>100</td>\n",
       "      <td>12</td>\n",
       "      <td>99.4</td>\n",
       "      <td>12</td>\n",
       "      <td>99.6</td>\n",
       "      <td>54</td>\n",
       "      <td>72.7</td>\n",
       "      <td>177</td>\n",
       "      <td>98.7</td>\n",
       "    </tr>\n",
       "    <tr>\n",
       "      <th>2</th>\n",
       "      <td>3</td>\n",
       "      <td>3</td>\n",
       "      <td>HARVARD UNIVERSITY</td>\n",
       "      <td>United States</td>\n",
       "      <td>L</td>\n",
       "      <td>FC</td>\n",
       "      <td>VH</td>\n",
       "      <td>5.0</td>\n",
       "      <td>B</td>\n",
       "      <td>100</td>\n",
       "      <td>...</td>\n",
       "      <td>3</td>\n",
       "      <td>98.3</td>\n",
       "      <td>38</td>\n",
       "      <td>99.9</td>\n",
       "      <td>9</td>\n",
       "      <td>96.5</td>\n",
       "      <td>103</td>\n",
       "      <td>75.2</td>\n",
       "      <td>165</td>\n",
       "      <td>98.4</td>\n",
       "    </tr>\n",
       "    <tr>\n",
       "      <th>3</th>\n",
       "      <td>4</td>\n",
       "      <td>5</td>\n",
       "      <td>CALIFORNIA INSTITUTE OF TECHNOLOGY (CALTECH)</td>\n",
       "      <td>United States</td>\n",
       "      <td>S</td>\n",
       "      <td>CO</td>\n",
       "      <td>VH</td>\n",
       "      <td>5.0</td>\n",
       "      <td>B</td>\n",
       "      <td>99.5</td>\n",
       "      <td>...</td>\n",
       "      <td>77</td>\n",
       "      <td>100</td>\n",
       "      <td>3</td>\n",
       "      <td>100</td>\n",
       "      <td>4</td>\n",
       "      <td>93.4</td>\n",
       "      <td>126</td>\n",
       "      <td>89.2</td>\n",
       "      <td>106</td>\n",
       "      <td>97.7</td>\n",
       "    </tr>\n",
       "    <tr>\n",
       "      <th>4</th>\n",
       "      <td>5</td>\n",
       "      <td>4</td>\n",
       "      <td>UNIVERSITY OF CAMBRIDGE</td>\n",
       "      <td>United Kingdom</td>\n",
       "      <td>L</td>\n",
       "      <td>FC</td>\n",
       "      <td>VH</td>\n",
       "      <td>5.0</td>\n",
       "      <td>A</td>\n",
       "      <td>100</td>\n",
       "      <td>...</td>\n",
       "      <td>1</td>\n",
       "      <td>100</td>\n",
       "      <td>10</td>\n",
       "      <td>78.3</td>\n",
       "      <td>75</td>\n",
       "      <td>97.4</td>\n",
       "      <td>87</td>\n",
       "      <td>97.7</td>\n",
       "      <td>57</td>\n",
       "      <td>95.6</td>\n",
       "    </tr>\n",
       "  </tbody>\n",
       "</table>\n",
       "<p>5 rows × 22 columns</p>\n",
       "</div>"
      ],
      "text/plain": [
       "                2018               2017  \\\n",
       "  Unnamed: 0_level_1 Unnamed: 1_level_1   \n",
       "0                  1                  1   \n",
       "1                  2                  2   \n",
       "2                  3                  3   \n",
       "3                  4                  5   \n",
       "4                  5                  4   \n",
       "\n",
       "                               Institution Name            Country  \\\n",
       "                             Unnamed: 2_level_1 Unnamed: 3_level_1   \n",
       "0  MASSACHUSETTS INSTITUTE OF TECHNOLOGY (MIT)       United States   \n",
       "1                           STANFORD UNIVERSITY      United States   \n",
       "2                            HARVARD UNIVERSITY      United States   \n",
       "3  CALIFORNIA INSTITUTE OF TECHNOLOGY (CALTECH)      United States   \n",
       "4                       UNIVERSITY OF CAMBRIDGE     United Kingdom   \n",
       "\n",
       "  Classification Unnamed: 5_level_0 Unnamed: 6_level_0 Unnamed: 7_level_0  \\\n",
       "            SIZE              FOCUS RESEARCH INTENSITY                AGE   \n",
       "0              M                 CO                 VH                5.0   \n",
       "1              L                 FC                 VH                5.0   \n",
       "2              L                 FC                 VH                5.0   \n",
       "3              S                 CO                 VH                5.0   \n",
       "4              L                 FC                 VH                5.0   \n",
       "\n",
       "  Unnamed: 8_level_0 Academic Reputation  ... Unnamed: 12_level_0  \\\n",
       "              STATUS               SCORE  ...                RANK   \n",
       "0                  B                 100  ...                   4   \n",
       "1                  B                 100  ...                   5   \n",
       "2                  B                 100  ...                   3   \n",
       "3                  B                99.5  ...                  77   \n",
       "4                  A                 100  ...                   1   \n",
       "\n",
       "  Faculty Student Unnamed: 14_level_0 Citations per Faculty  \\\n",
       "            SCORE                RANK                 SCORE   \n",
       "0             100                  14                  99.9   \n",
       "1             100                  12                  99.4   \n",
       "2            98.3                  38                  99.9   \n",
       "3             100                   3                   100   \n",
       "4             100                  10                  78.3   \n",
       "\n",
       "  Unnamed: 16_level_0 International Faculty Unnamed: 18_level_0  \\\n",
       "                 RANK                 SCORE                RANK   \n",
       "0                   8                   100                  36   \n",
       "1                  12                  99.6                  54   \n",
       "2                   9                  96.5                 103   \n",
       "3                   4                  93.4                 126   \n",
       "4                  75                  97.4                  87   \n",
       "\n",
       "  International Students Unnamed: 20_level_0       Overall Score  \n",
       "                   SCORE                RANK Unnamed: 21_level_1  \n",
       "0                   96.1                  70                 100  \n",
       "1                   72.7                 177                98.7  \n",
       "2                   75.2                 165                98.4  \n",
       "3                   89.2                 106                97.7  \n",
       "4                   97.7                  57                95.6  \n",
       "\n",
       "[5 rows x 22 columns]"
      ]
     },
     "execution_count": 3,
     "metadata": {},
     "output_type": "execute_result"
    }
   ],
   "source": [
    "university_ranking18.head()"
   ]
  },
  {
   "cell_type": "code",
   "execution_count": 4,
   "id": "a3201328",
   "metadata": {},
   "outputs": [
    {
     "data": {
      "text/html": [
       "<div>\n",
       "<style scoped>\n",
       "    .dataframe tbody tr th:only-of-type {\n",
       "        vertical-align: middle;\n",
       "    }\n",
       "\n",
       "    .dataframe tbody tr th {\n",
       "        vertical-align: top;\n",
       "    }\n",
       "\n",
       "    .dataframe thead tr th {\n",
       "        text-align: left;\n",
       "    }\n",
       "</style>\n",
       "<table border=\"1\" class=\"dataframe\">\n",
       "  <thead>\n",
       "    <tr>\n",
       "      <th></th>\n",
       "      <th>2019</th>\n",
       "      <th>2018</th>\n",
       "      <th>Institution Name</th>\n",
       "      <th>Country</th>\n",
       "      <th>Classification</th>\n",
       "      <th>Unnamed: 5_level_0</th>\n",
       "      <th>Unnamed: 6_level_0</th>\n",
       "      <th>Unnamed: 7_level_0</th>\n",
       "      <th>Unnamed: 8_level_0</th>\n",
       "      <th>Academic Reputation</th>\n",
       "      <th>...</th>\n",
       "      <th>Unnamed: 12_level_0</th>\n",
       "      <th>Faculty Student</th>\n",
       "      <th>Unnamed: 14_level_0</th>\n",
       "      <th>Citations per Faculty</th>\n",
       "      <th>Unnamed: 16_level_0</th>\n",
       "      <th>International Faculty</th>\n",
       "      <th>Unnamed: 18_level_0</th>\n",
       "      <th>International Students</th>\n",
       "      <th>Unnamed: 20_level_0</th>\n",
       "      <th>Overall Score</th>\n",
       "    </tr>\n",
       "    <tr>\n",
       "      <th></th>\n",
       "      <th>Unnamed: 0_level_1</th>\n",
       "      <th>Unnamed: 1_level_1</th>\n",
       "      <th>Unnamed: 2_level_1</th>\n",
       "      <th>Unnamed: 3_level_1</th>\n",
       "      <th>SIZE</th>\n",
       "      <th>FOCUS</th>\n",
       "      <th>RESEARCH INTENSITY</th>\n",
       "      <th>AGE</th>\n",
       "      <th>STATUS</th>\n",
       "      <th>SCORE</th>\n",
       "      <th>...</th>\n",
       "      <th>RANK</th>\n",
       "      <th>SCORE</th>\n",
       "      <th>RANK</th>\n",
       "      <th>SCORE</th>\n",
       "      <th>RANK</th>\n",
       "      <th>SCORE</th>\n",
       "      <th>RANK</th>\n",
       "      <th>SCORE</th>\n",
       "      <th>RANK</th>\n",
       "      <th>Unnamed: 21_level_1</th>\n",
       "    </tr>\n",
       "  </thead>\n",
       "  <tbody>\n",
       "    <tr>\n",
       "      <th>0</th>\n",
       "      <td>1</td>\n",
       "      <td>1</td>\n",
       "      <td>MASSACHUSETTS INSTITUTE OF TECHNOLOGY (MIT)</td>\n",
       "      <td>United States</td>\n",
       "      <td>M</td>\n",
       "      <td>CO</td>\n",
       "      <td>VH</td>\n",
       "      <td>5.0</td>\n",
       "      <td>B</td>\n",
       "      <td>100</td>\n",
       "      <td>...</td>\n",
       "      <td>4</td>\n",
       "      <td>100</td>\n",
       "      <td>17</td>\n",
       "      <td>99.8</td>\n",
       "      <td>8</td>\n",
       "      <td>100</td>\n",
       "      <td>41</td>\n",
       "      <td>95.5</td>\n",
       "      <td>77</td>\n",
       "      <td>100</td>\n",
       "    </tr>\n",
       "    <tr>\n",
       "      <th>1</th>\n",
       "      <td>2</td>\n",
       "      <td>2</td>\n",
       "      <td>STANFORD UNIVERSITY</td>\n",
       "      <td>United States</td>\n",
       "      <td>L</td>\n",
       "      <td>FC</td>\n",
       "      <td>VH</td>\n",
       "      <td>5.0</td>\n",
       "      <td>B</td>\n",
       "      <td>100</td>\n",
       "      <td>...</td>\n",
       "      <td>5</td>\n",
       "      <td>100</td>\n",
       "      <td>16</td>\n",
       "      <td>99</td>\n",
       "      <td>13</td>\n",
       "      <td>99.8</td>\n",
       "      <td>56</td>\n",
       "      <td>70.5</td>\n",
       "      <td>190</td>\n",
       "      <td>98.6</td>\n",
       "    </tr>\n",
       "    <tr>\n",
       "      <th>2</th>\n",
       "      <td>3</td>\n",
       "      <td>3</td>\n",
       "      <td>HARVARD UNIVERSITY</td>\n",
       "      <td>United States</td>\n",
       "      <td>L</td>\n",
       "      <td>FC</td>\n",
       "      <td>VH</td>\n",
       "      <td>5.0</td>\n",
       "      <td>B</td>\n",
       "      <td>100</td>\n",
       "      <td>...</td>\n",
       "      <td>1</td>\n",
       "      <td>99.3</td>\n",
       "      <td>40</td>\n",
       "      <td>99.8</td>\n",
       "      <td>9</td>\n",
       "      <td>92.1</td>\n",
       "      <td>151</td>\n",
       "      <td>75.7</td>\n",
       "      <td>164</td>\n",
       "      <td>98.5</td>\n",
       "    </tr>\n",
       "    <tr>\n",
       "      <th>3</th>\n",
       "      <td>4</td>\n",
       "      <td>4</td>\n",
       "      <td>CALIFORNIA INSTITUTE OF TECHNOLOGY (CALTECH)</td>\n",
       "      <td>United States</td>\n",
       "      <td>S</td>\n",
       "      <td>CO</td>\n",
       "      <td>VH</td>\n",
       "      <td>5.0</td>\n",
       "      <td>B</td>\n",
       "      <td>98.7</td>\n",
       "      <td>...</td>\n",
       "      <td>72</td>\n",
       "      <td>100</td>\n",
       "      <td>4</td>\n",
       "      <td>100</td>\n",
       "      <td>5</td>\n",
       "      <td>96.8</td>\n",
       "      <td>115</td>\n",
       "      <td>90.3</td>\n",
       "      <td>103</td>\n",
       "      <td>97.2</td>\n",
       "    </tr>\n",
       "    <tr>\n",
       "      <th>4</th>\n",
       "      <td>5</td>\n",
       "      <td>6</td>\n",
       "      <td>UNIVERSITY OF OXFORD</td>\n",
       "      <td>United Kingdom</td>\n",
       "      <td>L</td>\n",
       "      <td>FC</td>\n",
       "      <td>VH</td>\n",
       "      <td>5.0</td>\n",
       "      <td>A</td>\n",
       "      <td>100</td>\n",
       "      <td>...</td>\n",
       "      <td>3</td>\n",
       "      <td>100</td>\n",
       "      <td>7</td>\n",
       "      <td>83</td>\n",
       "      <td>56</td>\n",
       "      <td>99.6</td>\n",
       "      <td>63</td>\n",
       "      <td>98.8</td>\n",
       "      <td>43</td>\n",
       "      <td>96.8</td>\n",
       "    </tr>\n",
       "  </tbody>\n",
       "</table>\n",
       "<p>5 rows × 22 columns</p>\n",
       "</div>"
      ],
      "text/plain": [
       "                2019               2018  \\\n",
       "  Unnamed: 0_level_1 Unnamed: 1_level_1   \n",
       "0                  1                  1   \n",
       "1                  2                  2   \n",
       "2                  3                  3   \n",
       "3                  4                  4   \n",
       "4                  5                  6   \n",
       "\n",
       "                               Institution Name            Country  \\\n",
       "                             Unnamed: 2_level_1 Unnamed: 3_level_1   \n",
       "0   MASSACHUSETTS INSTITUTE OF TECHNOLOGY (MIT)      United States   \n",
       "1                           STANFORD UNIVERSITY      United States   \n",
       "2                            HARVARD UNIVERSITY      United States   \n",
       "3  CALIFORNIA INSTITUTE OF TECHNOLOGY (CALTECH)      United States   \n",
       "4                          UNIVERSITY OF OXFORD     United Kingdom   \n",
       "\n",
       "  Classification Unnamed: 5_level_0 Unnamed: 6_level_0 Unnamed: 7_level_0  \\\n",
       "            SIZE              FOCUS RESEARCH INTENSITY                AGE   \n",
       "0              M                 CO                 VH                5.0   \n",
       "1              L                 FC                 VH                5.0   \n",
       "2              L                 FC                 VH                5.0   \n",
       "3              S                 CO                 VH                5.0   \n",
       "4              L                 FC                 VH                5.0   \n",
       "\n",
       "  Unnamed: 8_level_0 Academic Reputation  ... Unnamed: 12_level_0  \\\n",
       "              STATUS               SCORE  ...                RANK   \n",
       "0                  B                 100  ...                   4   \n",
       "1                  B                 100  ...                   5   \n",
       "2                  B                 100  ...                   1   \n",
       "3                  B                98.7  ...                  72   \n",
       "4                  A                 100  ...                   3   \n",
       "\n",
       "  Faculty Student Unnamed: 14_level_0 Citations per Faculty  \\\n",
       "            SCORE                RANK                 SCORE   \n",
       "0             100                  17                  99.8   \n",
       "1             100                  16                    99   \n",
       "2            99.3                  40                  99.8   \n",
       "3             100                   4                   100   \n",
       "4             100                   7                    83   \n",
       "\n",
       "  Unnamed: 16_level_0 International Faculty Unnamed: 18_level_0  \\\n",
       "                 RANK                 SCORE                RANK   \n",
       "0                   8                   100                  41   \n",
       "1                  13                  99.8                  56   \n",
       "2                   9                  92.1                 151   \n",
       "3                   5                  96.8                 115   \n",
       "4                  56                  99.6                  63   \n",
       "\n",
       "  International Students Unnamed: 20_level_0       Overall Score  \n",
       "                   SCORE                RANK Unnamed: 21_level_1  \n",
       "0                   95.5                  77                 100  \n",
       "1                   70.5                 190                98.6  \n",
       "2                   75.7                 164                98.5  \n",
       "3                   90.3                 103                97.2  \n",
       "4                   98.8                  43                96.8  \n",
       "\n",
       "[5 rows x 22 columns]"
      ]
     },
     "execution_count": 4,
     "metadata": {},
     "output_type": "execute_result"
    }
   ],
   "source": [
    "university_ranking19.head()"
   ]
  },
  {
   "cell_type": "code",
   "execution_count": 5,
   "id": "6e5902f7",
   "metadata": {},
   "outputs": [
    {
     "data": {
      "text/plain": [
       "MultiIndex([(                  '2018',  'Unnamed: 0_level_1'),\n",
       "            (                  '2017',  'Unnamed: 1_level_1'),\n",
       "            (      'Institution Name',  'Unnamed: 2_level_1'),\n",
       "            (               'Country',  'Unnamed: 3_level_1'),\n",
       "            (        'Classification',                'SIZE'),\n",
       "            (    'Unnamed: 5_level_0',               'FOCUS'),\n",
       "            (    'Unnamed: 6_level_0',  'RESEARCH INTENSITY'),\n",
       "            (    'Unnamed: 7_level_0',                 'AGE'),\n",
       "            (    'Unnamed: 8_level_0',              'STATUS'),\n",
       "            (   'Academic Reputation',               'SCORE'),\n",
       "            (   'Unnamed: 10_level_0',                'RANK'),\n",
       "            (   'Employer Reputation',               'SCORE'),\n",
       "            (   'Unnamed: 12_level_0',                'RANK'),\n",
       "            (       'Faculty Student',               'SCORE'),\n",
       "            (   'Unnamed: 14_level_0',                'RANK'),\n",
       "            ( 'Citations per Faculty',               'SCORE'),\n",
       "            (   'Unnamed: 16_level_0',                'RANK'),\n",
       "            ( 'International Faculty',               'SCORE'),\n",
       "            (   'Unnamed: 18_level_0',                'RANK'),\n",
       "            ('International Students',               'SCORE'),\n",
       "            (   'Unnamed: 20_level_0',                'RANK'),\n",
       "            (         'Overall Score', 'Unnamed: 21_level_1')],\n",
       "           )"
      ]
     },
     "execution_count": 5,
     "metadata": {},
     "output_type": "execute_result"
    }
   ],
   "source": [
    "university_ranking18.columns"
   ]
  },
  {
   "cell_type": "code",
   "execution_count": 6,
   "id": "025cf619",
   "metadata": {},
   "outputs": [
    {
     "data": {
      "text/html": [
       "<div>\n",
       "<style scoped>\n",
       "    .dataframe tbody tr th:only-of-type {\n",
       "        vertical-align: middle;\n",
       "    }\n",
       "\n",
       "    .dataframe tbody tr th {\n",
       "        vertical-align: top;\n",
       "    }\n",
       "\n",
       "    .dataframe thead tr th {\n",
       "        text-align: left;\n",
       "    }\n",
       "</style>\n",
       "<table border=\"1\" class=\"dataframe\">\n",
       "  <thead>\n",
       "    <tr>\n",
       "      <th></th>\n",
       "      <th>2018</th>\n",
       "      <th>2017</th>\n",
       "      <th>Institution Name</th>\n",
       "      <th>Country</th>\n",
       "      <th>Classification</th>\n",
       "      <th>Unnamed: 5_level_0</th>\n",
       "      <th>Unnamed: 6_level_0</th>\n",
       "      <th>Unnamed: 7_level_0</th>\n",
       "      <th>Unnamed: 8_level_0</th>\n",
       "      <th>Academic Reputation</th>\n",
       "      <th>...</th>\n",
       "      <th>Unnamed: 12_level_0</th>\n",
       "      <th>Faculty Student</th>\n",
       "      <th>Unnamed: 14_level_0</th>\n",
       "      <th>Citations per Faculty</th>\n",
       "      <th>Unnamed: 16_level_0</th>\n",
       "      <th>International Faculty</th>\n",
       "      <th>Unnamed: 18_level_0</th>\n",
       "      <th>International Students</th>\n",
       "      <th>Unnamed: 20_level_0</th>\n",
       "      <th>Overall Score</th>\n",
       "    </tr>\n",
       "    <tr>\n",
       "      <th></th>\n",
       "      <th>Unnamed: 0_level_1</th>\n",
       "      <th>Unnamed: 1_level_1</th>\n",
       "      <th>Unnamed: 2_level_1</th>\n",
       "      <th>Unnamed: 3_level_1</th>\n",
       "      <th>SIZE</th>\n",
       "      <th>FOCUS</th>\n",
       "      <th>RESEARCH INTENSITY</th>\n",
       "      <th>AGE</th>\n",
       "      <th>STATUS</th>\n",
       "      <th>SCORE</th>\n",
       "      <th>...</th>\n",
       "      <th>RANK</th>\n",
       "      <th>SCORE</th>\n",
       "      <th>RANK</th>\n",
       "      <th>SCORE</th>\n",
       "      <th>RANK</th>\n",
       "      <th>SCORE</th>\n",
       "      <th>RANK</th>\n",
       "      <th>SCORE</th>\n",
       "      <th>RANK</th>\n",
       "      <th>Unnamed: 21_level_1</th>\n",
       "    </tr>\n",
       "  </thead>\n",
       "  <tbody>\n",
       "    <tr>\n",
       "      <th>0</th>\n",
       "      <td>1</td>\n",
       "      <td>1</td>\n",
       "      <td>MASSACHUSETTS INSTITUTE OF TECHNOLOGY (MIT)</td>\n",
       "      <td>United States</td>\n",
       "      <td>M</td>\n",
       "      <td>CO</td>\n",
       "      <td>VH</td>\n",
       "      <td>5.0</td>\n",
       "      <td>B</td>\n",
       "      <td>100</td>\n",
       "      <td>...</td>\n",
       "      <td>4</td>\n",
       "      <td>100</td>\n",
       "      <td>14</td>\n",
       "      <td>99.9</td>\n",
       "      <td>8</td>\n",
       "      <td>100</td>\n",
       "      <td>36</td>\n",
       "      <td>96.1</td>\n",
       "      <td>70</td>\n",
       "      <td>100</td>\n",
       "    </tr>\n",
       "    <tr>\n",
       "      <th>1</th>\n",
       "      <td>2</td>\n",
       "      <td>2</td>\n",
       "      <td>STANFORD UNIVERSITY</td>\n",
       "      <td>United States</td>\n",
       "      <td>L</td>\n",
       "      <td>FC</td>\n",
       "      <td>VH</td>\n",
       "      <td>5.0</td>\n",
       "      <td>B</td>\n",
       "      <td>100</td>\n",
       "      <td>...</td>\n",
       "      <td>5</td>\n",
       "      <td>100</td>\n",
       "      <td>12</td>\n",
       "      <td>99.4</td>\n",
       "      <td>12</td>\n",
       "      <td>99.6</td>\n",
       "      <td>54</td>\n",
       "      <td>72.7</td>\n",
       "      <td>177</td>\n",
       "      <td>98.7</td>\n",
       "    </tr>\n",
       "    <tr>\n",
       "      <th>2</th>\n",
       "      <td>3</td>\n",
       "      <td>3</td>\n",
       "      <td>HARVARD UNIVERSITY</td>\n",
       "      <td>United States</td>\n",
       "      <td>L</td>\n",
       "      <td>FC</td>\n",
       "      <td>VH</td>\n",
       "      <td>5.0</td>\n",
       "      <td>B</td>\n",
       "      <td>100</td>\n",
       "      <td>...</td>\n",
       "      <td>3</td>\n",
       "      <td>98.3</td>\n",
       "      <td>38</td>\n",
       "      <td>99.9</td>\n",
       "      <td>9</td>\n",
       "      <td>96.5</td>\n",
       "      <td>103</td>\n",
       "      <td>75.2</td>\n",
       "      <td>165</td>\n",
       "      <td>98.4</td>\n",
       "    </tr>\n",
       "    <tr>\n",
       "      <th>3</th>\n",
       "      <td>4</td>\n",
       "      <td>5</td>\n",
       "      <td>CALIFORNIA INSTITUTE OF TECHNOLOGY (CALTECH)</td>\n",
       "      <td>United States</td>\n",
       "      <td>S</td>\n",
       "      <td>CO</td>\n",
       "      <td>VH</td>\n",
       "      <td>5.0</td>\n",
       "      <td>B</td>\n",
       "      <td>99.5</td>\n",
       "      <td>...</td>\n",
       "      <td>77</td>\n",
       "      <td>100</td>\n",
       "      <td>3</td>\n",
       "      <td>100</td>\n",
       "      <td>4</td>\n",
       "      <td>93.4</td>\n",
       "      <td>126</td>\n",
       "      <td>89.2</td>\n",
       "      <td>106</td>\n",
       "      <td>97.7</td>\n",
       "    </tr>\n",
       "    <tr>\n",
       "      <th>4</th>\n",
       "      <td>5</td>\n",
       "      <td>4</td>\n",
       "      <td>UNIVERSITY OF CAMBRIDGE</td>\n",
       "      <td>United Kingdom</td>\n",
       "      <td>L</td>\n",
       "      <td>FC</td>\n",
       "      <td>VH</td>\n",
       "      <td>5.0</td>\n",
       "      <td>A</td>\n",
       "      <td>100</td>\n",
       "      <td>...</td>\n",
       "      <td>1</td>\n",
       "      <td>100</td>\n",
       "      <td>10</td>\n",
       "      <td>78.3</td>\n",
       "      <td>75</td>\n",
       "      <td>97.4</td>\n",
       "      <td>87</td>\n",
       "      <td>97.7</td>\n",
       "      <td>57</td>\n",
       "      <td>95.6</td>\n",
       "    </tr>\n",
       "  </tbody>\n",
       "</table>\n",
       "<p>5 rows × 22 columns</p>\n",
       "</div>"
      ],
      "text/plain": [
       "                2018               2017  \\\n",
       "  Unnamed: 0_level_1 Unnamed: 1_level_1   \n",
       "0                  1                  1   \n",
       "1                  2                  2   \n",
       "2                  3                  3   \n",
       "3                  4                  5   \n",
       "4                  5                  4   \n",
       "\n",
       "                               Institution Name            Country  \\\n",
       "                             Unnamed: 2_level_1 Unnamed: 3_level_1   \n",
       "0  MASSACHUSETTS INSTITUTE OF TECHNOLOGY (MIT)       United States   \n",
       "1                           STANFORD UNIVERSITY      United States   \n",
       "2                            HARVARD UNIVERSITY      United States   \n",
       "3  CALIFORNIA INSTITUTE OF TECHNOLOGY (CALTECH)      United States   \n",
       "4                       UNIVERSITY OF CAMBRIDGE     United Kingdom   \n",
       "\n",
       "  Classification Unnamed: 5_level_0 Unnamed: 6_level_0 Unnamed: 7_level_0  \\\n",
       "            SIZE              FOCUS RESEARCH INTENSITY                AGE   \n",
       "0              M                 CO                 VH                5.0   \n",
       "1              L                 FC                 VH                5.0   \n",
       "2              L                 FC                 VH                5.0   \n",
       "3              S                 CO                 VH                5.0   \n",
       "4              L                 FC                 VH                5.0   \n",
       "\n",
       "  Unnamed: 8_level_0 Academic Reputation  ... Unnamed: 12_level_0  \\\n",
       "              STATUS               SCORE  ...                RANK   \n",
       "0                  B                 100  ...                   4   \n",
       "1                  B                 100  ...                   5   \n",
       "2                  B                 100  ...                   3   \n",
       "3                  B                99.5  ...                  77   \n",
       "4                  A                 100  ...                   1   \n",
       "\n",
       "  Faculty Student Unnamed: 14_level_0 Citations per Faculty  \\\n",
       "            SCORE                RANK                 SCORE   \n",
       "0             100                  14                  99.9   \n",
       "1             100                  12                  99.4   \n",
       "2            98.3                  38                  99.9   \n",
       "3             100                   3                   100   \n",
       "4             100                  10                  78.3   \n",
       "\n",
       "  Unnamed: 16_level_0 International Faculty Unnamed: 18_level_0  \\\n",
       "                 RANK                 SCORE                RANK   \n",
       "0                   8                   100                  36   \n",
       "1                  12                  99.6                  54   \n",
       "2                   9                  96.5                 103   \n",
       "3                   4                  93.4                 126   \n",
       "4                  75                  97.4                  87   \n",
       "\n",
       "  International Students Unnamed: 20_level_0       Overall Score  \n",
       "                   SCORE                RANK Unnamed: 21_level_1  \n",
       "0                   96.1                  70                 100  \n",
       "1                   72.7                 177                98.7  \n",
       "2                   75.2                 165                98.4  \n",
       "3                   89.2                 106                97.7  \n",
       "4                   97.7                  57                95.6  \n",
       "\n",
       "[5 rows x 22 columns]"
      ]
     },
     "execution_count": 6,
     "metadata": {},
     "output_type": "execute_result"
    }
   ],
   "source": [
    "university_ranking18.head()"
   ]
  },
  {
   "cell_type": "code",
   "execution_count": 7,
   "id": "e9d31bc5",
   "metadata": {},
   "outputs": [],
   "source": [
    "# Resolving columns\n",
    "def resolve_columns(df: pd.core.frame.DataFrame) -> list:\n",
    "    cols = []\n",
    "    rankNumber = 1\n",
    "    for column in df:\n",
    "        if column[0].startswith('Unnamed'):\n",
    "            if column[1].startswith('RANK'):\n",
    "                cols.append(column[1] + '_' + str(rankNumber))\n",
    "                rankNumber +=1\n",
    "            else:\n",
    "                cols.append(column[1])\n",
    "        elif column[1].startswith('Unnamed'):\n",
    "            if column[0].startswith('RANK'):\n",
    "                cols.append(column[0] + '_' + str(rankNumber))\n",
    "                rankNumber +=1\n",
    "            else:\n",
    "                cols.append(column[0])\n",
    "        else:\n",
    "            cols.append(column[0] + ' ' + column[1].capitalize())\n",
    "    return cols"
   ]
  },
  {
   "cell_type": "code",
   "execution_count": 8,
   "id": "7abc1fc8",
   "metadata": {},
   "outputs": [
    {
     "data": {
      "text/plain": [
       "Index(['2018', '2017', 'Institution Name', 'Country', 'Classification Size',\n",
       "       'FOCUS', 'RESEARCH INTENSITY', 'AGE', 'STATUS',\n",
       "       'Academic Reputation Score', 'RANK_1', 'Employer Reputation Score',\n",
       "       'RANK_2', 'Faculty Student Score', 'RANK_3',\n",
       "       'Citations per Faculty Score', 'RANK_4', 'International Faculty Score',\n",
       "       'RANK_5', 'International Students Score', 'RANK_6', 'Overall Score'],\n",
       "      dtype='object')"
      ]
     },
     "execution_count": 8,
     "metadata": {},
     "output_type": "execute_result"
    }
   ],
   "source": [
    "university_ranking18.columns = resolve_columns(university_ranking18)\n",
    "university_ranking19.columns = resolve_columns(university_ranking19)\n",
    "university_ranking20.columns = resolve_columns(university_ranking20)\n",
    "university_ranking18.columns"
   ]
  },
  {
   "cell_type": "code",
   "execution_count": 9,
   "id": "2e55b72a",
   "metadata": {},
   "outputs": [
    {
     "data": {
      "text/html": [
       "<div>\n",
       "<style scoped>\n",
       "    .dataframe tbody tr th:only-of-type {\n",
       "        vertical-align: middle;\n",
       "    }\n",
       "\n",
       "    .dataframe tbody tr th {\n",
       "        vertical-align: top;\n",
       "    }\n",
       "\n",
       "    .dataframe thead th {\n",
       "        text-align: right;\n",
       "    }\n",
       "</style>\n",
       "<table border=\"1\" class=\"dataframe\">\n",
       "  <thead>\n",
       "    <tr style=\"text-align: right;\">\n",
       "      <th></th>\n",
       "      <th>2018</th>\n",
       "      <th>2017</th>\n",
       "      <th>Institution Name</th>\n",
       "      <th>Country</th>\n",
       "      <th>Classification Size</th>\n",
       "      <th>FOCUS</th>\n",
       "      <th>RESEARCH INTENSITY</th>\n",
       "      <th>AGE</th>\n",
       "      <th>STATUS</th>\n",
       "      <th>Academic Reputation Score</th>\n",
       "      <th>...</th>\n",
       "      <th>RANK_2</th>\n",
       "      <th>Faculty Student Score</th>\n",
       "      <th>RANK_3</th>\n",
       "      <th>Citations per Faculty Score</th>\n",
       "      <th>RANK_4</th>\n",
       "      <th>International Faculty Score</th>\n",
       "      <th>RANK_5</th>\n",
       "      <th>International Students Score</th>\n",
       "      <th>RANK_6</th>\n",
       "      <th>Overall Score</th>\n",
       "    </tr>\n",
       "  </thead>\n",
       "  <tbody>\n",
       "    <tr>\n",
       "      <th>0</th>\n",
       "      <td>1</td>\n",
       "      <td>1</td>\n",
       "      <td>MASSACHUSETTS INSTITUTE OF TECHNOLOGY (MIT)</td>\n",
       "      <td>United States</td>\n",
       "      <td>M</td>\n",
       "      <td>CO</td>\n",
       "      <td>VH</td>\n",
       "      <td>5.0</td>\n",
       "      <td>B</td>\n",
       "      <td>100</td>\n",
       "      <td>...</td>\n",
       "      <td>4</td>\n",
       "      <td>100</td>\n",
       "      <td>14</td>\n",
       "      <td>99.9</td>\n",
       "      <td>8</td>\n",
       "      <td>100</td>\n",
       "      <td>36</td>\n",
       "      <td>96.1</td>\n",
       "      <td>70</td>\n",
       "      <td>100</td>\n",
       "    </tr>\n",
       "    <tr>\n",
       "      <th>1</th>\n",
       "      <td>2</td>\n",
       "      <td>2</td>\n",
       "      <td>STANFORD UNIVERSITY</td>\n",
       "      <td>United States</td>\n",
       "      <td>L</td>\n",
       "      <td>FC</td>\n",
       "      <td>VH</td>\n",
       "      <td>5.0</td>\n",
       "      <td>B</td>\n",
       "      <td>100</td>\n",
       "      <td>...</td>\n",
       "      <td>5</td>\n",
       "      <td>100</td>\n",
       "      <td>12</td>\n",
       "      <td>99.4</td>\n",
       "      <td>12</td>\n",
       "      <td>99.6</td>\n",
       "      <td>54</td>\n",
       "      <td>72.7</td>\n",
       "      <td>177</td>\n",
       "      <td>98.7</td>\n",
       "    </tr>\n",
       "    <tr>\n",
       "      <th>2</th>\n",
       "      <td>3</td>\n",
       "      <td>3</td>\n",
       "      <td>HARVARD UNIVERSITY</td>\n",
       "      <td>United States</td>\n",
       "      <td>L</td>\n",
       "      <td>FC</td>\n",
       "      <td>VH</td>\n",
       "      <td>5.0</td>\n",
       "      <td>B</td>\n",
       "      <td>100</td>\n",
       "      <td>...</td>\n",
       "      <td>3</td>\n",
       "      <td>98.3</td>\n",
       "      <td>38</td>\n",
       "      <td>99.9</td>\n",
       "      <td>9</td>\n",
       "      <td>96.5</td>\n",
       "      <td>103</td>\n",
       "      <td>75.2</td>\n",
       "      <td>165</td>\n",
       "      <td>98.4</td>\n",
       "    </tr>\n",
       "    <tr>\n",
       "      <th>3</th>\n",
       "      <td>4</td>\n",
       "      <td>5</td>\n",
       "      <td>CALIFORNIA INSTITUTE OF TECHNOLOGY (CALTECH)</td>\n",
       "      <td>United States</td>\n",
       "      <td>S</td>\n",
       "      <td>CO</td>\n",
       "      <td>VH</td>\n",
       "      <td>5.0</td>\n",
       "      <td>B</td>\n",
       "      <td>99.5</td>\n",
       "      <td>...</td>\n",
       "      <td>77</td>\n",
       "      <td>100</td>\n",
       "      <td>3</td>\n",
       "      <td>100</td>\n",
       "      <td>4</td>\n",
       "      <td>93.4</td>\n",
       "      <td>126</td>\n",
       "      <td>89.2</td>\n",
       "      <td>106</td>\n",
       "      <td>97.7</td>\n",
       "    </tr>\n",
       "    <tr>\n",
       "      <th>4</th>\n",
       "      <td>5</td>\n",
       "      <td>4</td>\n",
       "      <td>UNIVERSITY OF CAMBRIDGE</td>\n",
       "      <td>United Kingdom</td>\n",
       "      <td>L</td>\n",
       "      <td>FC</td>\n",
       "      <td>VH</td>\n",
       "      <td>5.0</td>\n",
       "      <td>A</td>\n",
       "      <td>100</td>\n",
       "      <td>...</td>\n",
       "      <td>1</td>\n",
       "      <td>100</td>\n",
       "      <td>10</td>\n",
       "      <td>78.3</td>\n",
       "      <td>75</td>\n",
       "      <td>97.4</td>\n",
       "      <td>87</td>\n",
       "      <td>97.7</td>\n",
       "      <td>57</td>\n",
       "      <td>95.6</td>\n",
       "    </tr>\n",
       "  </tbody>\n",
       "</table>\n",
       "<p>5 rows × 22 columns</p>\n",
       "</div>"
      ],
      "text/plain": [
       "  2018 2017                              Institution Name         Country  \\\n",
       "0    1    1  MASSACHUSETTS INSTITUTE OF TECHNOLOGY (MIT)    United States   \n",
       "1    2    2                           STANFORD UNIVERSITY   United States   \n",
       "2    3    3                            HARVARD UNIVERSITY   United States   \n",
       "3    4    5  CALIFORNIA INSTITUTE OF TECHNOLOGY (CALTECH)   United States   \n",
       "4    5    4                       UNIVERSITY OF CAMBRIDGE  United Kingdom   \n",
       "\n",
       "  Classification Size FOCUS RESEARCH INTENSITY  AGE STATUS  \\\n",
       "0                   M    CO                 VH  5.0      B   \n",
       "1                   L    FC                 VH  5.0      B   \n",
       "2                   L    FC                 VH  5.0      B   \n",
       "3                   S    CO                 VH  5.0      B   \n",
       "4                   L    FC                 VH  5.0      A   \n",
       "\n",
       "  Academic Reputation Score  ... RANK_2 Faculty Student Score RANK_3  \\\n",
       "0                       100  ...      4                   100     14   \n",
       "1                       100  ...      5                   100     12   \n",
       "2                       100  ...      3                  98.3     38   \n",
       "3                      99.5  ...     77                   100      3   \n",
       "4                       100  ...      1                   100     10   \n",
       "\n",
       "  Citations per Faculty Score RANK_4 International Faculty Score RANK_5  \\\n",
       "0                        99.9      8                         100     36   \n",
       "1                        99.4     12                        99.6     54   \n",
       "2                        99.9      9                        96.5    103   \n",
       "3                         100      4                        93.4    126   \n",
       "4                        78.3     75                        97.4     87   \n",
       "\n",
       "  International Students Score RANK_6 Overall Score  \n",
       "0                         96.1     70           100  \n",
       "1                         72.7    177          98.7  \n",
       "2                         75.2    165          98.4  \n",
       "3                         89.2    106          97.7  \n",
       "4                         97.7     57          95.6  \n",
       "\n",
       "[5 rows x 22 columns]"
      ]
     },
     "execution_count": 9,
     "metadata": {},
     "output_type": "execute_result"
    }
   ],
   "source": [
    "university_ranking18.head()"
   ]
  },
  {
   "cell_type": "code",
   "execution_count": 10,
   "id": "4cda7c67",
   "metadata": {},
   "outputs": [
    {
     "data": {
      "text/html": [
       "<div>\n",
       "<style scoped>\n",
       "    .dataframe tbody tr th:only-of-type {\n",
       "        vertical-align: middle;\n",
       "    }\n",
       "\n",
       "    .dataframe tbody tr th {\n",
       "        vertical-align: top;\n",
       "    }\n",
       "\n",
       "    .dataframe thead th {\n",
       "        text-align: right;\n",
       "    }\n",
       "</style>\n",
       "<table border=\"1\" class=\"dataframe\">\n",
       "  <thead>\n",
       "    <tr style=\"text-align: right;\">\n",
       "      <th></th>\n",
       "      <th>2019</th>\n",
       "      <th>2018</th>\n",
       "      <th>Institution Name</th>\n",
       "      <th>Country</th>\n",
       "      <th>Classification Size</th>\n",
       "      <th>FOCUS</th>\n",
       "      <th>RESEARCH INTENSITY</th>\n",
       "      <th>AGE</th>\n",
       "      <th>STATUS</th>\n",
       "      <th>Academic Reputation Score</th>\n",
       "      <th>...</th>\n",
       "      <th>RANK_2</th>\n",
       "      <th>Faculty Student Score</th>\n",
       "      <th>RANK_3</th>\n",
       "      <th>Citations per Faculty Score</th>\n",
       "      <th>RANK_4</th>\n",
       "      <th>International Faculty Score</th>\n",
       "      <th>RANK_5</th>\n",
       "      <th>International Students Score</th>\n",
       "      <th>RANK_6</th>\n",
       "      <th>Overall Score</th>\n",
       "    </tr>\n",
       "  </thead>\n",
       "  <tbody>\n",
       "    <tr>\n",
       "      <th>0</th>\n",
       "      <td>1</td>\n",
       "      <td>1</td>\n",
       "      <td>MASSACHUSETTS INSTITUTE OF TECHNOLOGY (MIT)</td>\n",
       "      <td>United States</td>\n",
       "      <td>M</td>\n",
       "      <td>CO</td>\n",
       "      <td>VH</td>\n",
       "      <td>5.0</td>\n",
       "      <td>B</td>\n",
       "      <td>100</td>\n",
       "      <td>...</td>\n",
       "      <td>4</td>\n",
       "      <td>100</td>\n",
       "      <td>17</td>\n",
       "      <td>99.8</td>\n",
       "      <td>8</td>\n",
       "      <td>100</td>\n",
       "      <td>41</td>\n",
       "      <td>95.5</td>\n",
       "      <td>77</td>\n",
       "      <td>100</td>\n",
       "    </tr>\n",
       "    <tr>\n",
       "      <th>1</th>\n",
       "      <td>2</td>\n",
       "      <td>2</td>\n",
       "      <td>STANFORD UNIVERSITY</td>\n",
       "      <td>United States</td>\n",
       "      <td>L</td>\n",
       "      <td>FC</td>\n",
       "      <td>VH</td>\n",
       "      <td>5.0</td>\n",
       "      <td>B</td>\n",
       "      <td>100</td>\n",
       "      <td>...</td>\n",
       "      <td>5</td>\n",
       "      <td>100</td>\n",
       "      <td>16</td>\n",
       "      <td>99</td>\n",
       "      <td>13</td>\n",
       "      <td>99.8</td>\n",
       "      <td>56</td>\n",
       "      <td>70.5</td>\n",
       "      <td>190</td>\n",
       "      <td>98.6</td>\n",
       "    </tr>\n",
       "    <tr>\n",
       "      <th>2</th>\n",
       "      <td>3</td>\n",
       "      <td>3</td>\n",
       "      <td>HARVARD UNIVERSITY</td>\n",
       "      <td>United States</td>\n",
       "      <td>L</td>\n",
       "      <td>FC</td>\n",
       "      <td>VH</td>\n",
       "      <td>5.0</td>\n",
       "      <td>B</td>\n",
       "      <td>100</td>\n",
       "      <td>...</td>\n",
       "      <td>1</td>\n",
       "      <td>99.3</td>\n",
       "      <td>40</td>\n",
       "      <td>99.8</td>\n",
       "      <td>9</td>\n",
       "      <td>92.1</td>\n",
       "      <td>151</td>\n",
       "      <td>75.7</td>\n",
       "      <td>164</td>\n",
       "      <td>98.5</td>\n",
       "    </tr>\n",
       "    <tr>\n",
       "      <th>3</th>\n",
       "      <td>4</td>\n",
       "      <td>4</td>\n",
       "      <td>CALIFORNIA INSTITUTE OF TECHNOLOGY (CALTECH)</td>\n",
       "      <td>United States</td>\n",
       "      <td>S</td>\n",
       "      <td>CO</td>\n",
       "      <td>VH</td>\n",
       "      <td>5.0</td>\n",
       "      <td>B</td>\n",
       "      <td>98.7</td>\n",
       "      <td>...</td>\n",
       "      <td>72</td>\n",
       "      <td>100</td>\n",
       "      <td>4</td>\n",
       "      <td>100</td>\n",
       "      <td>5</td>\n",
       "      <td>96.8</td>\n",
       "      <td>115</td>\n",
       "      <td>90.3</td>\n",
       "      <td>103</td>\n",
       "      <td>97.2</td>\n",
       "    </tr>\n",
       "    <tr>\n",
       "      <th>4</th>\n",
       "      <td>5</td>\n",
       "      <td>6</td>\n",
       "      <td>UNIVERSITY OF OXFORD</td>\n",
       "      <td>United Kingdom</td>\n",
       "      <td>L</td>\n",
       "      <td>FC</td>\n",
       "      <td>VH</td>\n",
       "      <td>5.0</td>\n",
       "      <td>A</td>\n",
       "      <td>100</td>\n",
       "      <td>...</td>\n",
       "      <td>3</td>\n",
       "      <td>100</td>\n",
       "      <td>7</td>\n",
       "      <td>83</td>\n",
       "      <td>56</td>\n",
       "      <td>99.6</td>\n",
       "      <td>63</td>\n",
       "      <td>98.8</td>\n",
       "      <td>43</td>\n",
       "      <td>96.8</td>\n",
       "    </tr>\n",
       "  </tbody>\n",
       "</table>\n",
       "<p>5 rows × 22 columns</p>\n",
       "</div>"
      ],
      "text/plain": [
       "  2019 2018                              Institution Name         Country  \\\n",
       "0    1    1   MASSACHUSETTS INSTITUTE OF TECHNOLOGY (MIT)   United States   \n",
       "1    2    2                           STANFORD UNIVERSITY   United States   \n",
       "2    3    3                            HARVARD UNIVERSITY   United States   \n",
       "3    4    4  CALIFORNIA INSTITUTE OF TECHNOLOGY (CALTECH)   United States   \n",
       "4    5    6                          UNIVERSITY OF OXFORD  United Kingdom   \n",
       "\n",
       "  Classification Size FOCUS RESEARCH INTENSITY  AGE STATUS  \\\n",
       "0                   M    CO                 VH  5.0      B   \n",
       "1                   L    FC                 VH  5.0      B   \n",
       "2                   L    FC                 VH  5.0      B   \n",
       "3                   S    CO                 VH  5.0      B   \n",
       "4                   L    FC                 VH  5.0      A   \n",
       "\n",
       "  Academic Reputation Score  ... RANK_2 Faculty Student Score RANK_3  \\\n",
       "0                       100  ...      4                   100     17   \n",
       "1                       100  ...      5                   100     16   \n",
       "2                       100  ...      1                  99.3     40   \n",
       "3                      98.7  ...     72                   100      4   \n",
       "4                       100  ...      3                   100      7   \n",
       "\n",
       "  Citations per Faculty Score RANK_4 International Faculty Score RANK_5  \\\n",
       "0                        99.8      8                         100     41   \n",
       "1                          99     13                        99.8     56   \n",
       "2                        99.8      9                        92.1    151   \n",
       "3                         100      5                        96.8    115   \n",
       "4                          83     56                        99.6     63   \n",
       "\n",
       "  International Students Score RANK_6 Overall Score  \n",
       "0                         95.5     77           100  \n",
       "1                         70.5    190          98.6  \n",
       "2                         75.7    164          98.5  \n",
       "3                         90.3    103          97.2  \n",
       "4                         98.8     43          96.8  \n",
       "\n",
       "[5 rows x 22 columns]"
      ]
     },
     "execution_count": 10,
     "metadata": {},
     "output_type": "execute_result"
    }
   ],
   "source": [
    "university_ranking19.head()"
   ]
  },
  {
   "cell_type": "code",
   "execution_count": 11,
   "id": "0966f07f",
   "metadata": {},
   "outputs": [
    {
     "data": {
      "text/html": [
       "<div>\n",
       "<style scoped>\n",
       "    .dataframe tbody tr th:only-of-type {\n",
       "        vertical-align: middle;\n",
       "    }\n",
       "\n",
       "    .dataframe tbody tr th {\n",
       "        vertical-align: top;\n",
       "    }\n",
       "\n",
       "    .dataframe thead th {\n",
       "        text-align: right;\n",
       "    }\n",
       "</style>\n",
       "<table border=\"1\" class=\"dataframe\">\n",
       "  <thead>\n",
       "    <tr style=\"text-align: right;\">\n",
       "      <th></th>\n",
       "      <th>Rank in 2020</th>\n",
       "      <th>Rank in 2019</th>\n",
       "      <th>Institution Name</th>\n",
       "      <th>Country</th>\n",
       "      <th>Classification Size</th>\n",
       "      <th>FOCUS</th>\n",
       "      <th>RESEARCH INTENSITY</th>\n",
       "      <th>AGE</th>\n",
       "      <th>STATUS</th>\n",
       "      <th>Academic Reputation Score</th>\n",
       "      <th>...</th>\n",
       "      <th>RANK_2</th>\n",
       "      <th>Faculty Student Score</th>\n",
       "      <th>RANK_3</th>\n",
       "      <th>Citations per Faculty Score</th>\n",
       "      <th>RANK_4</th>\n",
       "      <th>International Faculty Score</th>\n",
       "      <th>RANK_5</th>\n",
       "      <th>International Students Score</th>\n",
       "      <th>RANK_6</th>\n",
       "      <th>Overall Score</th>\n",
       "    </tr>\n",
       "  </thead>\n",
       "  <tbody>\n",
       "    <tr>\n",
       "      <th>0</th>\n",
       "      <td>1</td>\n",
       "      <td>1</td>\n",
       "      <td>Massachusetts Institute of Technology (MIT)</td>\n",
       "      <td>United States</td>\n",
       "      <td>M</td>\n",
       "      <td>CO</td>\n",
       "      <td>VH</td>\n",
       "      <td>5.0</td>\n",
       "      <td>B</td>\n",
       "      <td>100</td>\n",
       "      <td>...</td>\n",
       "      <td>4</td>\n",
       "      <td>100</td>\n",
       "      <td>15</td>\n",
       "      <td>99.8</td>\n",
       "      <td>7</td>\n",
       "      <td>100</td>\n",
       "      <td>43</td>\n",
       "      <td>94.1</td>\n",
       "      <td>87</td>\n",
       "      <td>100</td>\n",
       "    </tr>\n",
       "    <tr>\n",
       "      <th>1</th>\n",
       "      <td>2</td>\n",
       "      <td>2</td>\n",
       "      <td>Stanford University</td>\n",
       "      <td>United States</td>\n",
       "      <td>L</td>\n",
       "      <td>FC</td>\n",
       "      <td>VH</td>\n",
       "      <td>5.0</td>\n",
       "      <td>B</td>\n",
       "      <td>100</td>\n",
       "      <td>...</td>\n",
       "      <td>5</td>\n",
       "      <td>100</td>\n",
       "      <td>12</td>\n",
       "      <td>98.6</td>\n",
       "      <td>13</td>\n",
       "      <td>99.8</td>\n",
       "      <td>62</td>\n",
       "      <td>67.7</td>\n",
       "      <td>196</td>\n",
       "      <td>98.4</td>\n",
       "    </tr>\n",
       "    <tr>\n",
       "      <th>2</th>\n",
       "      <td>3</td>\n",
       "      <td>3</td>\n",
       "      <td>Harvard University</td>\n",
       "      <td>United States</td>\n",
       "      <td>L</td>\n",
       "      <td>FC</td>\n",
       "      <td>VH</td>\n",
       "      <td>5.0</td>\n",
       "      <td>B</td>\n",
       "      <td>100</td>\n",
       "      <td>...</td>\n",
       "      <td>1</td>\n",
       "      <td>98.7</td>\n",
       "      <td>40</td>\n",
       "      <td>99.6</td>\n",
       "      <td>8</td>\n",
       "      <td>86.3</td>\n",
       "      <td>186</td>\n",
       "      <td>62.2</td>\n",
       "      <td>221</td>\n",
       "      <td>97.4</td>\n",
       "    </tr>\n",
       "    <tr>\n",
       "      <th>3</th>\n",
       "      <td>4</td>\n",
       "      <td>5</td>\n",
       "      <td>University of Oxford</td>\n",
       "      <td>United Kingdom</td>\n",
       "      <td>L</td>\n",
       "      <td>FC</td>\n",
       "      <td>VH</td>\n",
       "      <td>5.0</td>\n",
       "      <td>A</td>\n",
       "      <td>100</td>\n",
       "      <td>...</td>\n",
       "      <td>3</td>\n",
       "      <td>100</td>\n",
       "      <td>8</td>\n",
       "      <td>84.7</td>\n",
       "      <td>45</td>\n",
       "      <td>99.7</td>\n",
       "      <td>64</td>\n",
       "      <td>98.5</td>\n",
       "      <td>50</td>\n",
       "      <td>97.2</td>\n",
       "    </tr>\n",
       "    <tr>\n",
       "      <th>4</th>\n",
       "      <td>5</td>\n",
       "      <td>4</td>\n",
       "      <td>California Institute of Technology (Caltech)</td>\n",
       "      <td>United States</td>\n",
       "      <td>S</td>\n",
       "      <td>CO</td>\n",
       "      <td>VH</td>\n",
       "      <td>5.0</td>\n",
       "      <td>B</td>\n",
       "      <td>97.8</td>\n",
       "      <td>...</td>\n",
       "      <td>74</td>\n",
       "      <td>100</td>\n",
       "      <td>4</td>\n",
       "      <td>100</td>\n",
       "      <td>4</td>\n",
       "      <td>99.4</td>\n",
       "      <td>72</td>\n",
       "      <td>87.3</td>\n",
       "      <td>121</td>\n",
       "      <td>96.9</td>\n",
       "    </tr>\n",
       "  </tbody>\n",
       "</table>\n",
       "<p>5 rows × 22 columns</p>\n",
       "</div>"
      ],
      "text/plain": [
       "  Rank in 2020 Rank in 2019                              Institution Name  \\\n",
       "0            1            1   Massachusetts Institute of Technology (MIT)   \n",
       "1            2            2                           Stanford University   \n",
       "2            3            3                            Harvard University   \n",
       "3            4            5                          University of Oxford   \n",
       "4            5            4  California Institute of Technology (Caltech)   \n",
       "\n",
       "          Country Classification Size FOCUS RESEARCH INTENSITY  AGE STATUS  \\\n",
       "0   United States                   M    CO                 VH  5.0      B   \n",
       "1   United States                   L    FC                 VH  5.0      B   \n",
       "2   United States                   L    FC                 VH  5.0      B   \n",
       "3  United Kingdom                   L    FC                 VH  5.0      A   \n",
       "4   United States                   S    CO                 VH  5.0      B   \n",
       "\n",
       "  Academic Reputation Score  ... RANK_2 Faculty Student Score RANK_3  \\\n",
       "0                       100  ...      4                   100     15   \n",
       "1                       100  ...      5                   100     12   \n",
       "2                       100  ...      1                  98.7     40   \n",
       "3                       100  ...      3                   100      8   \n",
       "4                      97.8  ...     74                   100      4   \n",
       "\n",
       "  Citations per Faculty Score RANK_4 International Faculty Score RANK_5  \\\n",
       "0                        99.8      7                         100     43   \n",
       "1                        98.6     13                        99.8     62   \n",
       "2                        99.6      8                        86.3    186   \n",
       "3                        84.7     45                        99.7     64   \n",
       "4                         100      4                        99.4     72   \n",
       "\n",
       "  International Students Score RANK_6 Overall Score  \n",
       "0                         94.1     87           100  \n",
       "1                         67.7    196          98.4  \n",
       "2                         62.2    221          97.4  \n",
       "3                         98.5     50          97.2  \n",
       "4                         87.3    121          96.9  \n",
       "\n",
       "[5 rows x 22 columns]"
      ]
     },
     "execution_count": 11,
     "metadata": {},
     "output_type": "execute_result"
    }
   ],
   "source": [
    "university_ranking20.head()"
   ]
  },
  {
   "cell_type": "markdown",
   "id": "fbb2ea35",
   "metadata": {},
   "source": [
    "## Checking for Null Values in the data"
   ]
  },
  {
   "cell_type": "markdown",
   "id": "e7a4a303",
   "metadata": {},
   "source": [
    "# det_columns =  Academic Reputation, Employer Reputation, Faculty to Student Ratio, Number of citations per faculty, International Faculty, International Students"
   ]
  },
  {
   "cell_type": "code",
   "execution_count": 74,
   "id": "1f897513",
   "metadata": {},
   "outputs": [],
   "source": [
    "#columns used for the determination of the rankings will be saved in a variable called det_columns\n",
    "det_columns = ['Academic Reputation Score', 'Employer Reputation Score', 'Faculty Student Score',\n",
    "               'Citations per Faculty Score', 'International Faculty Score', 'International Students Score']"
   ]
  },
  {
   "cell_type": "code",
   "execution_count": 14,
   "id": "52eabf10",
   "metadata": {},
   "outputs": [],
   "source": [
    "university_ranking18.replace('-', np.nan,inplace=True)"
   ]
  },
  {
   "cell_type": "code",
   "execution_count": 15,
   "id": "084f078e",
   "metadata": {},
   "outputs": [
    {
     "data": {
      "text/plain": [
       "<AxesSubplot:>"
      ]
     },
     "execution_count": 15,
     "metadata": {},
     "output_type": "execute_result"
    },
    {
     "data": {
      "image/png": "[encoded data removed]",
      "text/plain": [
       "<Figure size 864x432 with 1 Axes>"
      ]
     },
     "metadata": {
      "needs_background": "light"
     },
     "output_type": "display_data"
    }
   ],
   "source": [
    "# checking null values in 2018 dataset\n",
    "# yellow color means null value\n",
    "plt.figure(figsize=(12,6))\n",
    "sns.heatmap(university_ranking18[det_columns].isnull(), cmap='viridis', cbar=False, yticklabels=False)"
   ]
  },
  {
   "cell_type": "code",
   "execution_count": 18,
   "id": "3b117da3",
   "metadata": {},
   "outputs": [],
   "source": [
    "university_ranking19.replace('-', np.nan,inplace=True)"
   ]
  },
  {
   "cell_type": "code",
   "execution_count": 19,
   "id": "1812ef17",
   "metadata": {},
   "outputs": [
    {
     "data": {
      "text/plain": [
       "<AxesSubplot:>"
      ]
     },
     "execution_count": 19,
     "metadata": {},
     "output_type": "execute_result"
    },
    {
     "data": {
      "image/png": "[encoded data removed]",
      "text/plain": [
       "<Figure size 864x432 with 1 Axes>"
      ]
     },
     "metadata": {
      "needs_background": "light"
     },
     "output_type": "display_data"
    }
   ],
   "source": [
    "# checking null values in 2019 dataset\n",
    "plt.figure(figsize=(12,6))\n",
    "sns.heatmap(university_ranking19[det_columns].isnull(), cmap='viridis', cbar=False, yticklabels=False)"
   ]
  },
  {
   "cell_type": "code",
   "execution_count": 22,
   "id": "c815434b",
   "metadata": {},
   "outputs": [],
   "source": [
    "university_ranking20.replace('-', np.nan,inplace=True)"
   ]
  },
  {
   "cell_type": "code",
   "execution_count": 23,
   "id": "b0a02164",
   "metadata": {},
   "outputs": [
    {
     "data": {
      "text/plain": [
       "<AxesSubplot:>"
      ]
     },
     "execution_count": 23,
     "metadata": {},
     "output_type": "execute_result"
    },
    {
     "data": {
      "image/png": "[encoded data removed]",
      "text/plain": [
       "<Figure size 864x432 with 1 Axes>"
      ]
     },
     "metadata": {
      "needs_background": "light"
     },
     "output_type": "display_data"
    }
   ],
   "source": [
    "# Checking for null values in 2020 data\n",
    "plt.figure(figsize=(12,6))\n",
    "sns.heatmap(university_ranking20[det_columns].isnull(), cmap='viridis', cbar=False, yticklabels=False)"
   ]
  },
  {
   "cell_type": "markdown",
   "id": "c64aae07",
   "metadata": {},
   "source": [
    "### Univariate Analysis\n",
    "#### Bar Plot"
   ]
  },
  {
   "cell_type": "code",
   "execution_count": 24,
   "id": "c7e093e4",
   "metadata": {},
   "outputs": [
    {
     "data": {
      "text/plain": [
       "0       United States\n",
       "1       United States\n",
       "2       United States\n",
       "3       United States\n",
       "4      United Kingdom\n",
       "            ...      \n",
       "979           Germany\n",
       "980               NaN\n",
       "981               NaN\n",
       "982               NaN\n",
       "983               NaN\n",
       "Name: Country, Length: 984, dtype: object"
      ]
     },
     "execution_count": 24,
     "metadata": {},
     "output_type": "execute_result"
    }
   ],
   "source": [
    "university_ranking18.Country"
   ]
  },
  {
   "cell_type": "code",
   "execution_count": 25,
   "id": "d3bf6cb4",
   "metadata": {},
   "outputs": [
    {
     "data": {
      "text/plain": [
       "84"
      ]
     },
     "execution_count": 25,
     "metadata": {},
     "output_type": "execute_result"
    }
   ],
   "source": [
    "university_ranking18.Country.nunique()"
   ]
  },
  {
   "cell_type": "code",
   "execution_count": 26,
   "id": "77411ab9",
   "metadata": {},
   "outputs": [
    {
     "data": {
      "text/plain": [
       "United States     159\n",
       "United Kingdom     78\n",
       "Germany            47\n",
       "France             44\n",
       "Japan              43\n",
       "Name: Country, dtype: int64"
      ]
     },
     "execution_count": 26,
     "metadata": {},
     "output_type": "execute_result"
    }
   ],
   "source": [
    "top_contries=university_ranking18.Country.value_counts().head()\n",
    "top_contries"
   ]
  },
  {
   "cell_type": "code",
   "execution_count": 27,
   "id": "ae69b429",
   "metadata": {},
   "outputs": [
    {
     "name": "stderr",
     "output_type": "stream",
     "text": [
      "C:\\Users\\kenny\\anaconda3\\lib\\site-packages\\seaborn\\_decorators.py:36: FutureWarning: Pass the following variables as keyword args: x, y. From version 0.12, the only valid positional argument will be `data`, and passing other arguments without an explicit keyword will result in an error or misinterpretation.\n",
      "  warnings.warn(\n"
     ]
    },
    {
     "data": {
      "image/png": "[encoded data removed]",
      "text/plain": [
       "<Figure size 864x432 with 1 Axes>"
      ]
     },
     "metadata": {
      "needs_background": "light"
     },
     "output_type": "display_data"
    }
   ],
   "source": [
    "plt.figure(figsize=(12,6))\n",
    "plt.xticks(rotation=75)\n",
    "plt.title(\"Country\")\n",
    "sns.barplot(top_contries.index,top_contries);"
   ]
  },
  {
   "cell_type": "code",
   "execution_count": 28,
   "id": "b9b5595e",
   "metadata": {},
   "outputs": [
    {
     "data": {
      "text/plain": [
       "(array([  1.,   0.,  31.,   0.,   0., 127.,   0., 304.,   0., 496.]),\n",
       " array([1. , 1.4, 1.8, 2.2, 2.6, 3. , 3.4, 3.8, 4.2, 4.6, 5. ]),\n",
       " <BarContainer object of 10 artists>)"
      ]
     },
     "execution_count": 28,
     "metadata": {},
     "output_type": "execute_result"
    },
    {
     "data": {
      "image/png": "[encoded data removed]",
      "text/plain": [
       "<Figure size 864x432 with 1 Axes>"
      ]
     },
     "metadata": {
      "needs_background": "light"
     },
     "output_type": "display_data"
    }
   ],
   "source": [
    "plt.figure(figsize=(12,6))\n",
    "plt.title(\"Age\")\n",
    "plt.xlabel(\"Age\")\n",
    "plt.ylabel(\"Number of Respondents\")\n",
    "plt.hist(university_ranking18.AGE,bins=10,color='purple')"
   ]
  },
  {
   "cell_type": "code",
   "execution_count": 29,
   "id": "72bbd26f",
   "metadata": {},
   "outputs": [
    {
     "data": {
      "text/plain": [
       "0        United States\n",
       "1        United States\n",
       "2        United States\n",
       "3        United States\n",
       "4       United Kingdom\n",
       "             ...      \n",
       "1020           Germany\n",
       "1021               NaN\n",
       "1022               NaN\n",
       "1023               NaN\n",
       "1024               NaN\n",
       "Name: Country, Length: 1025, dtype: object"
      ]
     },
     "execution_count": 29,
     "metadata": {},
     "output_type": "execute_result"
    }
   ],
   "source": [
    "university_ranking19.Country"
   ]
  },
  {
   "cell_type": "code",
   "execution_count": 30,
   "id": "2d30cd4d",
   "metadata": {},
   "outputs": [
    {
     "data": {
      "text/plain": [
       "85"
      ]
     },
     "execution_count": 30,
     "metadata": {},
     "output_type": "execute_result"
    }
   ],
   "source": [
    "university_ranking19.Country.nunique()"
   ]
  },
  {
   "cell_type": "code",
   "execution_count": 31,
   "id": "5a142d84",
   "metadata": {},
   "outputs": [
    {
     "data": {
      "text/plain": [
       "United States     159\n",
       "United Kingdom     78\n",
       "Germany            47\n",
       "France             44\n",
       "Japan              43\n",
       "Name: Country, dtype: int64"
      ]
     },
     "execution_count": 31,
     "metadata": {},
     "output_type": "execute_result"
    }
   ],
   "source": [
    "top_contries19=university_ranking18.Country.value_counts().head()\n",
    "top_contries19"
   ]
  },
  {
   "cell_type": "code",
   "execution_count": 32,
   "id": "0904473d",
   "metadata": {},
   "outputs": [
    {
     "name": "stderr",
     "output_type": "stream",
     "text": [
      "C:\\Users\\kenny\\anaconda3\\lib\\site-packages\\seaborn\\_decorators.py:36: FutureWarning: Pass the following variables as keyword args: x, y. From version 0.12, the only valid positional argument will be `data`, and passing other arguments without an explicit keyword will result in an error or misinterpretation.\n",
      "  warnings.warn(\n"
     ]
    },
    {
     "data": {
      "image/png": "[encoded data removed]",
      "text/plain": [
       "<Figure size 864x432 with 1 Axes>"
      ]
     },
     "metadata": {
      "needs_background": "light"
     },
     "output_type": "display_data"
    }
   ],
   "source": [
    "plt.figure(figsize=(12,6))\n",
    "plt.xticks(rotation=75)\n",
    "plt.title(\"Country\")\n",
    "sns.barplot(top_contries19.index,top_contries);"
   ]
  },
  {
   "cell_type": "code",
   "execution_count": 33,
   "id": "5b2615b6",
   "metadata": {},
   "outputs": [
    {
     "data": {
      "text/plain": [
       "(array([  8.,   0.,  38.,   0.,   0., 158.,   0., 324.,   0., 493.]),\n",
       " array([1. , 1.4, 1.8, 2.2, 2.6, 3. , 3.4, 3.8, 4.2, 4.6, 5. ]),\n",
       " <BarContainer object of 10 artists>)"
      ]
     },
     "execution_count": 33,
     "metadata": {},
     "output_type": "execute_result"
    },
    {
     "data": {
      "image/png": "[encoded data removed]",
      "text/plain": [
       "<Figure size 864x432 with 1 Axes>"
      ]
     },
     "metadata": {
      "needs_background": "light"
     },
     "output_type": "display_data"
    }
   ],
   "source": [
    "plt.figure(figsize=(12,6))\n",
    "plt.title(\"Age\")\n",
    "plt.xlabel(\"Age\")\n",
    "plt.ylabel(\"Number of Respondents\")\n",
    "plt.hist(university_ranking19.AGE,bins=10,color='purple')"
   ]
  },
  {
   "cell_type": "code",
   "execution_count": null,
   "id": "ae7471aa",
   "metadata": {},
   "outputs": [],
   "source": []
  },
  {
   "cell_type": "markdown",
   "id": "124823c0-d0bd-4dc8-a03c-ad6eba915b57",
   "metadata": {},
   "source": [
    "## Model Training"
   ]
  },
  {
   "cell_type": "code",
   "execution_count": 34,
   "id": "fd7e6766-f348-4d4e-b966-d4ec79d9497d",
   "metadata": {},
   "outputs": [],
   "source": [
    "university_ranking18.dropna(inplace=True)"
   ]
  },
  {
   "cell_type": "code",
   "execution_count": 35,
   "id": "d16ff55c-4fe7-4017-bac4-11031eb527e1",
   "metadata": {},
   "outputs": [
    {
     "data": {
      "text/plain": [
       "<AxesSubplot:>"
      ]
     },
     "execution_count": 35,
     "metadata": {},
     "output_type": "execute_result"
    },
    {
     "data": {
      "image/png": "[encoded data removed]",
      "text/plain": [
       "<Figure size 864x432 with 1 Axes>"
      ]
     },
     "metadata": {
      "needs_background": "light"
     },
     "output_type": "display_data"
    }
   ],
   "source": [
    "plt.figure(figsize=(12,6))\n",
    "sns.heatmap(university_ranking18[det_columns].isnull(), cmap='viridis', cbar=False, yticklabels=False)\n",
    "# cleaned the data successfully"
   ]
  },
  {
   "cell_type": "code",
   "execution_count": 36,
   "id": "3f3ac796-223f-43ae-949b-7f8a40effbb0",
   "metadata": {},
   "outputs": [],
   "source": [
    "university_ranking19.dropna(inplace=True)\n",
    "university_ranking20.dropna(inplace=True)"
   ]
  },
  {
   "cell_type": "code",
   "execution_count": 38,
   "id": "04208eb9-c49c-4275-a29f-d8d419deffe4",
   "metadata": {},
   "outputs": [
    {
     "data": {
      "text/plain": [
       "Index(['2018', '2017', 'Institution Name', 'Country', 'Classification Size',\n",
       "       'FOCUS', 'RESEARCH INTENSITY', 'AGE', 'STATUS',\n",
       "       'Academic Reputation Score', 'RANK_1', 'Employer Reputation Score',\n",
       "       'RANK_2', 'Faculty Student Score', 'RANK_3',\n",
       "       'Citations per Faculty Score', 'RANK_4', 'International Faculty Score',\n",
       "       'RANK_5', 'International Students Score', 'RANK_6', 'Overall Score'],\n",
       "      dtype='object')"
      ]
     },
     "execution_count": 38,
     "metadata": {},
     "output_type": "execute_result"
    }
   ],
   "source": [
    "university_ranking18.columns"
   ]
  },
  {
   "cell_type": "code",
   "execution_count": 40,
   "id": "ee560c08-ebd9-4d09-9186-41bbd62b60f7",
   "metadata": {},
   "outputs": [],
   "source": [
    "features18 = university_ranking18[det_columns]\n",
    "features19 = university_ranking19[det_columns]\n",
    "features20 = university_ranking20[det_columns]"
   ]
  },
  {
   "cell_type": "code",
   "execution_count": 41,
   "id": "4e6c3b59-5554-4b20-8a63-e873994d85ad",
   "metadata": {},
   "outputs": [],
   "source": [
    "feature_data = pd.concat([features18, features19, features20])"
   ]
  },
  {
   "cell_type": "code",
   "execution_count": 43,
   "id": "b65483c5-b8c8-4608-91b8-766595707961",
   "metadata": {},
   "outputs": [],
   "source": [
    "X = feature_data.values"
   ]
  },
  {
   "cell_type": "code",
   "execution_count": 45,
   "id": "988cd2d9-b88f-4b17-ad47-1ebd6dbed5c5",
   "metadata": {},
   "outputs": [],
   "source": [
    "target_data = pd.concat([university_ranking18['Overall Score'],university_ranking19['Overall Score'],university_ranking20['Overall Score']])"
   ]
  },
  {
   "cell_type": "code",
   "execution_count": 47,
   "id": "4b5300d6-a8aa-42d3-81bf-a737b015fc93",
   "metadata": {},
   "outputs": [],
   "source": [
    "y = target_data.values"
   ]
  },
  {
   "cell_type": "code",
   "execution_count": 48,
   "id": "e7c83912-cf2a-41fb-9595-8a17ae6422c7",
   "metadata": {},
   "outputs": [],
   "source": [
    "from sklearn.model_selection import train_test_split"
   ]
  },
  {
   "cell_type": "code",
   "execution_count": 49,
   "id": "83f65feb-0fa3-4073-8ed6-9ad6a0e515b2",
   "metadata": {},
   "outputs": [],
   "source": [
    "X_train, X_test, y_train, y_test = train_test_split( X, y, test_size=0.3, random_state=101)"
   ]
  },
  {
   "cell_type": "code",
   "execution_count": 52,
   "id": "a5e5530a-a1d1-4dcc-b002-3a29edc790e4",
   "metadata": {},
   "outputs": [],
   "source": [
    "# X_train.shape\n",
    "# X_test.shape"
   ]
  },
  {
   "cell_type": "code",
   "execution_count": 54,
   "id": "322ce162-399c-4c56-bf90-0d96644f21b0",
   "metadata": {},
   "outputs": [],
   "source": [
    "from sklearn.preprocessing import MinMaxScaler"
   ]
  },
  {
   "cell_type": "code",
   "execution_count": 55,
   "id": "cf22bc3a-7de2-4e3d-b5ac-6e5bc052adaa",
   "metadata": {},
   "outputs": [],
   "source": [
    "scaler = MinMaxScaler()"
   ]
  },
  {
   "cell_type": "code",
   "execution_count": 56,
   "id": "77fea9d3-fbc2-43aa-9240-64b6633c510a",
   "metadata": {},
   "outputs": [
    {
     "data": {
      "text/plain": [
       "MinMaxScaler()"
      ]
     },
     "execution_count": 56,
     "metadata": {},
     "output_type": "execute_result"
    }
   ],
   "source": [
    "scaler.fit(X_train)"
   ]
  },
  {
   "cell_type": "code",
   "execution_count": 57,
   "id": "61452aff-c964-4f27-8516-aba3937c71cd",
   "metadata": {},
   "outputs": [],
   "source": [
    "X_train = scaler.transform(X_train)"
   ]
  },
  {
   "cell_type": "code",
   "execution_count": 58,
   "id": "4d592fbc-f1b7-4341-b840-b5823f3965a5",
   "metadata": {},
   "outputs": [],
   "source": [
    "X_test = scaler.transform(X_test)"
   ]
  },
  {
   "cell_type": "code",
   "execution_count": 60,
   "id": "da407a6e-6f6d-4584-81f9-6dfc1798998f",
   "metadata": {},
   "outputs": [],
   "source": [
    "from sklearn.linear_model import LinearRegression"
   ]
  },
  {
   "cell_type": "code",
   "execution_count": 61,
   "id": "d3652418-2838-4b3d-b291-12ae33e53aaa",
   "metadata": {},
   "outputs": [],
   "source": [
    "model = LinearRegression()"
   ]
  },
  {
   "cell_type": "code",
   "execution_count": 62,
   "id": "5ecd63af-741b-44b7-a9ce-75111124827e",
   "metadata": {},
   "outputs": [
    {
     "data": {
      "text/plain": [
       "LinearRegression()"
      ]
     },
     "execution_count": 62,
     "metadata": {},
     "output_type": "execute_result"
    }
   ],
   "source": [
    "model.fit(X_train, y_train)"
   ]
  },
  {
   "cell_type": "code",
   "execution_count": 63,
   "id": "c2db2ddb-5be9-4dfd-bef9-984b6ab413f0",
   "metadata": {},
   "outputs": [],
   "source": [
    "predictions = model.predict(X_test)"
   ]
  },
  {
   "cell_type": "code",
   "execution_count": 64,
   "id": "ccf1dd7c-fc96-4855-a938-1f07cdec0aba",
   "metadata": {},
   "outputs": [],
   "source": [
    "from sklearn.metrics import mean_absolute_error, mean_squared_error, r2_score"
   ]
  },
  {
   "cell_type": "code",
   "execution_count": 65,
   "id": "506cadd9-8b5c-4046-8abf-eec2ebe7ef06",
   "metadata": {},
   "outputs": [],
   "source": [
    "mae = mean_absolute_error(y_test, predictions)"
   ]
  },
  {
   "cell_type": "code",
   "execution_count": 67,
   "id": "6df79ad3-990a-4cdd-8d68-e4817f7bcd15",
   "metadata": {},
   "outputs": [],
   "source": [
    "mse = mean_squared_error(y_test, predictions)"
   ]
  },
  {
   "cell_type": "code",
   "execution_count": 69,
   "id": "79e23a52-6747-4520-a87a-7faf305dfcec",
   "metadata": {},
   "outputs": [],
   "source": [
    "r2_s = r2_score(y_test, predictions)"
   ]
  },
  {
   "cell_type": "code",
   "execution_count": 71,
   "id": "af3f8d72-423c-4b51-b8df-6d23c49c1898",
   "metadata": {},
   "outputs": [
    {
     "name": "stdout",
     "output_type": "stream",
     "text": [
      "MAE:  0.031888705220342504\n",
      "MSE:  0.0014711361818261057\n",
      "r2_score:  0.9999958086682562\n"
     ]
    }
   ],
   "source": [
    "print('MAE: ', mae)\n",
    "print('MSE: ', mse)\n",
    "print('r2_score: ', r2_s)"
   ]
  },
  {
   "cell_type": "code",
   "execution_count": null,
   "id": "1a7bfce3-3235-424c-8093-d08bb5515219",
   "metadata": {},
   "outputs": [],
   "source": []
  }
 ],
 "metadata": {
  "kernelspec": {
   "display_name": "Python 3 (ipykernel)",
   "language": "python",
   "name": "python3"
  },
  "language_info": {
   "codemirror_mode": {
    "name": "ipython",
    "version": 3
   },
   "file_extension": ".py",
   "mimetype": "text/x-python",
   "name": "python",
   "nbconvert_exporter": "python",
   "pygments_lexer": "ipython3",
   "version": "3.9.7"
  }
 },
 "nbformat": 4,
 "nbformat_minor": 5
}
